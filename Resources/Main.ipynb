{
 "cells": [
  {
   "cell_type": "code",
   "execution_count": 65,
   "metadata": {},
   "outputs": [
    {
     "ename": "ValueError",
     "evalue": "I/O operation on closed file.",
     "output_type": "error",
     "traceback": [
      "\u001b[1;31m---------------------------------------------------------------------------\u001b[0m",
      "\u001b[1;31mValueError\u001b[0m                                Traceback (most recent call last)",
      "\u001b[1;32m<ipython-input-65-75d858604a8a>\u001b[0m in \u001b[0;36m<module>\u001b[1;34m()\u001b[0m\n\u001b[0;32m      6\u001b[0m \u001b[1;33m\u001b[0m\u001b[0m\n\u001b[0;32m      7\u001b[0m \u001b[1;33m\u001b[0m\u001b[0m\n\u001b[1;32m----> 8\u001b[1;33m \u001b[1;32mfor\u001b[0m \u001b[0mline\u001b[0m \u001b[1;32min\u001b[0m \u001b[0mBudgetSet\u001b[0m\u001b[1;33m:\u001b[0m\u001b[1;33m\u001b[0m\u001b[0m\n\u001b[0m\u001b[0;32m      9\u001b[0m     \u001b[0mMonths\u001b[0m \u001b[1;33m=\u001b[0m \u001b[1;33m(\u001b[0m\u001b[0msum\u001b[0m\u001b[1;33m(\u001b[0m\u001b[1;36m1\u001b[0m \u001b[1;32mfor\u001b[0m \u001b[0mrow\u001b[0m \u001b[1;32min\u001b[0m \u001b[0mBudgetSet\u001b[0m\u001b[1;33m)\u001b[0m\u001b[1;33m-\u001b[0m\u001b[1;36m1\u001b[0m\u001b[1;33m)\u001b[0m\u001b[1;33m\u001b[0m\u001b[0m\n\u001b[0;32m     10\u001b[0m     \u001b[0mprint\u001b[0m\u001b[1;33m(\u001b[0m\u001b[0mline\u001b[0m\u001b[1;33m)\u001b[0m\u001b[1;33m\u001b[0m\u001b[0m\n",
      "\u001b[1;31mValueError\u001b[0m: I/O operation on closed file."
     ]
    }
   ],
   "source": [
    "import csv\n",
    "\n",
    "TotalRevenue = 0\n",
    "with open(\"budget_data_1.csv\",newline=\"\") as BudgetSet:\n",
    "    BudgetSet = csv.reader(BudgetSet)\n",
    "\n",
    "        \n",
    "for line in BudgetSet:\n",
    "    Months = (sum(1 for row in BudgetSet)-1)\n",
    "    print(line)\n",
    "        \n",
    "next(BudgetSet)\n",
    "    \n",
    "for row in BudgetSet:\n",
    "    TotalRevenue = (TotalRevenue + int(row[1]))\n",
    "        \n",
    "    \n",
    "    \n",
    "        \n",
    "        \n",
    "    #print(\"Financial Analysis\")\n",
    "    #print(\"-----------------------------\")\n",
    "    print(\"Total Months: \" + str(Months))\n",
    "    print(\"Total Revenue: \" + str(TotalRevenue))\n",
    "    #print(\"Average Revenue Change: \")\n",
    "    #print(\"Greatest Increase in Revenue: \")\n",
    "    #print(\"Greatest Decrease in Revenue: \")\n",
    "        "
   ]
  },
  {
   "cell_type": "code",
   "execution_count": 40,
   "metadata": {},
   "outputs": [
    {
     "ename": "NameError",
     "evalue": "name 'incsv' is not defined",
     "output_type": "error",
     "traceback": [
      "\u001b[1;31m---------------------------------------------------------------------------\u001b[0m",
      "\u001b[1;31mNameError\u001b[0m                                 Traceback (most recent call last)",
      "\u001b[1;32m<ipython-input-40-4d80b93929e3>\u001b[0m in \u001b[0;36m<module>\u001b[1;34m()\u001b[0m\n\u001b[0;32m      7\u001b[0m \u001b[1;33m\u001b[0m\u001b[0m\n\u001b[0;32m      8\u001b[0m \u001b[1;32mfor\u001b[0m \u001b[0mrow\u001b[0m \u001b[1;32min\u001b[0m \u001b[0mcsv_f\u001b[0m\u001b[1;33m:\u001b[0m\u001b[1;33m\u001b[0m\u001b[0m\n\u001b[1;32m----> 9\u001b[1;33m     \u001b[0mnext\u001b[0m\u001b[1;33m(\u001b[0m\u001b[0mincsv\u001b[0m\u001b[1;33m)\u001b[0m\u001b[1;33m\u001b[0m\u001b[0m\n\u001b[0m\u001b[0;32m     10\u001b[0m     \u001b[0mattendee_emails\u001b[0m\u001b[1;33m.\u001b[0m\u001b[0mappend\u001b[0m\u001b[1;33m(\u001b[0m\u001b[0mrow\u001b[0m\u001b[1;33m[\u001b[0m\u001b[1;36m1\u001b[0m\u001b[1;33m]\u001b[0m\u001b[1;33m)\u001b[0m\u001b[1;33m\u001b[0m\u001b[0m\n\u001b[0;32m     11\u001b[0m \u001b[1;33m\u001b[0m\u001b[0m\n",
      "\u001b[1;31mNameError\u001b[0m: name 'incsv' is not defined"
     ]
    }
   ],
   "source": [
    "import csv\n",
    "\n",
    "f = open('budget_data_1.csv')\n",
    "csv_f = csv.reader(f)\n",
    "\n",
    "attendee_emails = []\n",
    "\n",
    "for row in csv_f:\n",
    "    attendee_emails.append(row[1])\n",
    "\n",
    "print(attendee_emails)"
   ]
  },
  {
   "cell_type": "code",
   "execution_count": 72,
   "metadata": {},
   "outputs": [
    {
     "ename": "SyntaxError",
     "evalue": "invalid syntax (<ipython-input-72-408aee118705>, line 11)",
     "output_type": "error",
     "traceback": [
      "\u001b[1;36m  File \u001b[1;32m\"<ipython-input-72-408aee118705>\"\u001b[1;36m, line \u001b[1;32m11\u001b[0m\n\u001b[1;33m    TotalRevenue = (TotalRevenue + int(row[1]))\u001b[0m\n\u001b[1;37m               ^\u001b[0m\n\u001b[1;31mSyntaxError\u001b[0m\u001b[1;31m:\u001b[0m invalid syntax\n"
     ]
    }
   ],
   "source": [
    "import csv\n",
    "\n",
    "TotalRevenue = 0\n",
    "with open(\"budget_data_1.csv\",newline=\"\") as BudgetSet:\n",
    "    BudgetSet = csv.reader(BudgetSet)\n",
    "    \n",
    "    \n"
   ]
  },
  {
   "cell_type": "code",
   "execution_count": 75,
   "metadata": {},
   "outputs": [
    {
     "name": "stdout",
     "output_type": "stream",
     "text": [
      "1154293\n",
      "885773\n",
      "-448704\n",
      "563679\n",
      "555394\n",
      "631974\n",
      "957395\n",
      "1104047\n",
      "693464\n",
      "454932\n",
      "727272\n",
      "125016\n",
      "339251\n",
      "78523\n",
      "977084\n",
      "1158718\n",
      "332681\n",
      "-341227\n",
      "173826\n",
      "742611\n",
      "1189806\n",
      "607363\n",
      "-1172384\n",
      "587993\n",
      "295198\n",
      "-300390\n",
      "468995\n",
      "698452\n",
      "967828\n",
      "-454873\n",
      "375723\n",
      "1140526\n",
      "83836\n",
      "413189\n",
      "551363\n",
      "1195111\n",
      "657081\n",
      "66659\n",
      "803301\n",
      "-953301\n",
      "883934\n"
     ]
    }
   ],
   "source": [
    "import csv\n",
    "\n",
    "with open(\"budget_data_1.csv\", newline=\"\") as csvfile:\n",
    "    csv_reader = csv.reader(csvfile, delimiter=\",\")\n",
    "        \n",
    "    next(csv_reader, None)\n",
    " \n",
    "    for row in csv_reader:\n",
    "        print(row[1])\n",
    "       \n",
    "        \n",
    "        "
   ]
  },
  {
   "cell_type": "code",
   "execution_count": 82,
   "metadata": {},
   "outputs": [
    {
     "name": "stdout",
     "output_type": "stream",
     "text": [
      "1154293\n",
      "885773\n",
      "-448704\n",
      "563679\n",
      "555394\n",
      "631974\n",
      "957395\n",
      "1104047\n",
      "693464\n",
      "454932\n",
      "727272\n",
      "125016\n",
      "339251\n",
      "78523\n",
      "977084\n",
      "1158718\n",
      "332681\n",
      "-341227\n",
      "173826\n",
      "742611\n",
      "1189806\n",
      "607363\n",
      "-1172384\n",
      "587993\n",
      "295198\n",
      "-300390\n",
      "468995\n",
      "698452\n",
      "967828\n",
      "-454873\n",
      "375723\n",
      "1140526\n",
      "83836\n",
      "413189\n",
      "551363\n",
      "1195111\n",
      "657081\n",
      "66659\n",
      "803301\n",
      "-953301\n",
      "883934\n",
      "['12-Oct', '12-Nov', '12-Dec', '13-Jan', '13-Feb', '13-Mar', '13-Apr', '13-May', '13-Jun', '13-Jul', '13-Aug', '13-Sep', '13-Oct', '13-Nov', '13-Dec', '14-Jan', '14-Feb', '14-Mar', '14-Apr', '14-May', '14-Jun', '14-Jul', '14-Aug', '14-Sep', '14-Oct', '14-Nov', '14-Dec', '15-Jan', '15-Feb', '15-Mar', '15-Apr', '15-May', '15-Jun', '15-Jul', '15-Aug', '15-Sep', '15-Oct', '15-Nov', '15-Dec', '16-Jan', '16-Feb']\n"
     ]
    }
   ],
   "source": [
    "import csv\n",
    "\n",
    "Months = []\n",
    "\n",
    "with open(\"budget_data_1.csv\", newline=\"\") as csvfile:\n",
    "    csv_reader = csv.reader(csvfile, delimiter=\",\")\n",
    "        \n",
    "        \n",
    "    next(csv_reader, None)\n",
    " \n",
    "    for row in csv_reader:\n",
    "        Months.append(row[0])\n",
    "        print(row[1])\n",
    "        \n",
    "    print(len(Months))\n",
    "        "
   ]
  },
  {
   "cell_type": "code",
   "execution_count": 105,
   "metadata": {},
   "outputs": [
    {
     "name": "stdout",
     "output_type": "stream",
     "text": [
      "[1154293, -268520, -1334477, 1012383, -8285, 76580, 325421, 146652, -410583, -238532, 272340, -602256, 214235, -260728, 898561, 181634, -826037, -673908, 515053, 568785, 447195, -582443, -1779747, 1760377, -292795, -595588, 769385, 229457, 269376, -1422701, 830596, 764803, -1056690, 329353, 138174, 643748, -538030, -590422, 736642, -1756602, 1837235]\n",
      "Financial Analysis\n",
      "-----------------------------\n",
      "Total Months: $41\n",
      "Total Revenue: 284571180\n"
     ]
    }
   ],
   "source": [
    "import csv\n",
    "\n",
    "Months = []\n",
    "RevenueChanges = []\n",
    "Revenue = 0\n",
    "AverageChange = 0\n",
    "\n",
    "with open(\"budget_data_1.csv\", newline=\"\") as csvfile:\n",
    "    csv_reader = csv.reader(csvfile, delimiter=\",\")\n",
    "        \n",
    "        \n",
    "    next(csv_reader, None)\n",
    " \n",
    "    for row in csv_reader:\n",
    "        Months.append(row[0])\n",
    "        RevenueChanges.append((int(row[1]) - int(Revenue)))\n",
    "        TotalRevenue = (TotalRevenue + int(row[1]))\n",
    "        Revenue = int(row[1])\n",
    "        AverageChange = (sum(RevenueChanges) / int(Months))\n",
    "        \n",
    "        \n",
    "    print(str(RevenueChanges))\n",
    "\n",
    "print(\"Financial Analysis\")\n",
    "print(\"-----------------------------\")\n",
    "print(\"Total Months: \" + str(len(Months)))\n",
    "print(\"Total Revenue: $\" + str(TotalRevenue))\n",
    "print(\"Average Revenue Change: $\" + str(AverageChange))\n",
    "#print(\"Greatest Increase in Revenue: $\")\n",
    "#print(\"Greatest Decrease in Revenue: \")"
   ]
  },
  {
   "cell_type": "code",
   "execution_count": null,
   "metadata": {
    "collapsed": true
   },
   "outputs": [],
   "source": [
    "with open(\"budget_data_1.csv\", newline=\"\") as csvfile:\n",
    "    csv_reader = csv.reader(csvfile, delimiter=\",\")\n",
    "        \n",
    "        \n",
    "    next(csv_reader, None)\n",
    " \n",
    "    for row in csv_reader:\n",
    "        Months.append(row[0])\n",
    "        RevenueChanges.append((int(row[1]) - int(Revenue)))\n",
    "        TotalRevenue = (TotalRevenue + int(row[1]))\n",
    "        Revenue = int(row[1])"
   ]
  },
  {
   "cell_type": "code",
   "execution_count": 129,
   "metadata": {},
   "outputs": [
    {
     "name": "stdout",
     "output_type": "stream",
     "text": [
      "[1154293, -268520, -1334477, 1012383, -8285, 76580, 325421, 146652, -410583, -238532, 272340, -602256, 214235, -260728, 898561, 181634, -826037, -673908, 515053, 568785, 447195, -582443, -1779747, 1760377, -292795, -595588, 769385, 229457, 269376, -1422701, 830596, 764803, -1056690, 329353, 138174, 643748, -538030, -590422, 736642, -1756602, 1837235]\n",
      "Financial Analysis\n",
      "-----------------------------\n",
      "Total Months: 41\n",
      "Total Revenue: $56844869\n",
      "Average Revenue Change: $\n"
     ]
    }
   ],
   "source": [
    "import csv\n",
    "\n",
    "Months = []\n",
    "RevenueChanges = []\n",
    "Revenue = 0\n",
    "Change = 0\n",
    "AverageChange = 0\n",
    "\n",
    "with open(\"budget_data_1.csv\", newline=\"\") as csvfile:\n",
    "    csv_reader = csv.reader(csvfile, delimiter=\",\")\n",
    "        \n",
    "        \n",
    "    next(csv_reader, None)\n",
    " \n",
    "    for row in csv_reader:\n",
    "        Months.append(row[0])\n",
    "        Change = (int(row[1]) - int(Revenue))\n",
    "        TotalRevenue = (TotalRevenue + int(row[1]))\n",
    "        RevenueChanges.append(Change)\n",
    "        #TotalRevenue = (TotalRevenue + int(row[1]))\n",
    "        Revenue = int(row[1])\n",
    "        \n",
    "        \n",
    "   \n",
    "    print(str(RevenueChanges))\n",
    "\n",
    "print(\"Financial Analysis\")\n",
    "print(\"-----------------------------\")\n",
    "print(\"Total Months: \" + str(len(Months)))\n",
    "print(\"Total Revenue: $\" + str(TotalRevenue))\n",
    "print(\"Average Revenue Change: $\" )\n",
    "#print(\"Greatest Increase in Revenue: $\")\n",
    "#print(\"Greatest Decrease in Revenue: \")"
   ]
  },
  {
   "cell_type": "code",
   "execution_count": 130,
   "metadata": {},
   "outputs": [
    {
     "ename": "TypeError",
     "evalue": "'int' object is not callable",
     "output_type": "error",
     "traceback": [
      "\u001b[1;31m---------------------------------------------------------------------------\u001b[0m",
      "\u001b[1;31mTypeError\u001b[0m                                 Traceback (most recent call last)",
      "\u001b[1;32m<ipython-input-130-ced30ab9eb6d>\u001b[0m in \u001b[0;36m<module>\u001b[1;34m()\u001b[0m\n\u001b[0;32m      2\u001b[0m \u001b[1;33m\u001b[0m\u001b[0m\n\u001b[0;32m      3\u001b[0m \u001b[1;31m# start parameter is not provided\u001b[0m\u001b[1;33m\u001b[0m\u001b[1;33m\u001b[0m\u001b[0m\n\u001b[1;32m----> 4\u001b[1;33m \u001b[0mnumbersSum\u001b[0m \u001b[1;33m=\u001b[0m \u001b[0msum\u001b[0m\u001b[1;33m(\u001b[0m\u001b[0mnumbers\u001b[0m\u001b[1;33m)\u001b[0m\u001b[1;33m\u001b[0m\u001b[0m\n\u001b[0m\u001b[0;32m      5\u001b[0m \u001b[0mprint\u001b[0m\u001b[1;33m(\u001b[0m\u001b[0mnumbersSum\u001b[0m\u001b[1;33m)\u001b[0m\u001b[1;33m\u001b[0m\u001b[0m\n\u001b[0;32m      6\u001b[0m \u001b[1;33m\u001b[0m\u001b[0m\n",
      "\u001b[1;31mTypeError\u001b[0m: 'int' object is not callable"
     ]
    }
   ],
   "source": [
    "numbers = [2.5, 3, 4, -5]\n",
    "\n",
    "# start parameter is not provided\n",
    "numbersSum = sum(numbers)\n",
    "print(numbersSum)\n",
    "\n",
    "# start = 10\n",
    "numbersSum = sum(numbers, 10)\n",
    "print(numbersSum)\n"
   ]
  },
  {
   "cell_type": "code",
   "execution_count": 121,
   "metadata": {},
   "outputs": [
    {
     "name": "stdout",
     "output_type": "stream",
     "text": [
      "496178873\n"
     ]
    }
   ],
   "source": [
    "import csv\n",
    "\n",
    "Months = []\n",
    "RevenueChanges = []\n",
    "Revenue = 0\n",
    "Change = 0\n",
    "AverageChange = 0\n",
    "\n",
    "with open(\"budget_data_1.csv\", newline=\"\") as csvfile:\n",
    "    csv_reader = csv.reader(csvfile, delimiter=\",\")\n",
    "        \n",
    "        \n",
    "    next(csv_reader, None)\n",
    " \n",
    "    for row in csv_reader:\n",
    "        #Months.append(row[0])\n",
    "        Change = (int(row[1]) - int(Revenue))\n",
    "        TotalRevenue = (TotalRevenue + Change)\n",
    "        #RevenueChanges.append(Change)\n",
    "        #TotalRevenue = (TotalRevenue + int(row[1]))\n",
    "        #Revenue = int(row[1])\n",
    "        \n",
    "        \n",
    "   \n",
    "    print(str(TotalRevenue))"
   ]
  },
  {
   "cell_type": "code",
   "execution_count": 133,
   "metadata": {},
   "outputs": [
    {
     "name": "stdout",
     "output_type": "stream",
     "text": [
      "[1154293, -268520, -1334477, 1012383, -8285, 76580, 325421, 146652, -410583, -238532, 272340, -602256, 214235, -260728, 898561, 181634, -826037, -673908, 515053, 568785, 447195, -582443, -1779747, 1760377, -292795, -595588, 769385, 229457, 269376, -1422701, 830596, 764803, -1056690, 329353, 138174, 643748, -538030, -590422, 736642, -1756602, 1837235]\n",
      "Financial Analysis\n",
      "-----------------------------\n",
      "Total Months: 41\n",
      "Total Revenue: $113759105\n",
      "Average Revenue Change: $\n"
     ]
    }
   ],
   "source": [
    "import csv\n",
    "\n",
    "Months = []\n",
    "RevenueChanges = []\n",
    "Revenue = 0\n",
    "Change = 0\n",
    "AverageChange = 0\n",
    "\n",
    "with open(\"budget_data_1.csv\", newline=\"\") as csvfile:\n",
    "    csv_reader = csv.reader(csvfile, delimiter=\",\")\n",
    "        \n",
    "        \n",
    "    next(csv_reader, None)\n",
    " \n",
    "    for row in csv_reader:\n",
    "        Months.append(row[0])\n",
    "        Change = (int(row[1]) - int(Revenue))\n",
    "        TotalRevenue = (TotalRevenue + int(row[1]))\n",
    "        RevenueChanges.append(Change)\n",
    "        #TotalRevenue = (TotalRevenue + int(row[1]))\n",
    "        Revenue = int(row[1])\n",
    "        \n",
    "        \n",
    "   \n",
    "    print(str(RevenueChanges))\n",
    "\n",
    "print(\"Financial Analysis\")\n",
    "print(\"-----------------------------\")\n",
    "print(\"Total Months: \" + str(len(Months)))\n",
    "print(\"Total Revenue: $\" + str(TotalRevenue))\n",
    "print(\"Average Revenue Change: $\" )\n",
    "#print(\"Greatest Increase in Revenue: $\")\n",
    "#print(\"Greatest Decrease in Revenue: \")"
   ]
  },
  {
   "cell_type": "code",
   "execution_count": 134,
   "metadata": {},
   "outputs": [
    {
     "name": "stdout",
     "output_type": "stream",
     "text": [
      "[1154293, -268520, -1334477, 1012383, -8285, 76580, 325421, 146652, -410583, -238532, 272340, -602256, 214235, -260728, 898561, 181634, -826037, -673908, 515053, 568785, 447195, -582443, -1779747, 1760377, -292795, -595588, 769385, 229457, 269376, -1422701, 830596, 764803, -1056690, 329353, 138174, 643748, -538030, -590422, 736642, -1756602, 1837235]\n",
      "Financial Analysis\n",
      "-----------------------------\n",
      "Total Months: 41\n",
      "Total Revenue: $132730517\n",
      "Average Revenue Change: $\n"
     ]
    }
   ],
   "source": [
    "import csv\n",
    "\n",
    "\n",
    "RevenueChanges = []\n",
    "Revenue = 0\n",
    "Change = 0\n",
    "\n",
    "with open(\"budget_data_1.csv\", newline=\"\") as csvfile:\n",
    "    csv_reader = csv.reader(csvfile, delimiter=\",\")\n",
    "        \n",
    "        \n",
    "    next(csv_reader, None)\n",
    " \n",
    "    for row in csv_reader:\n",
    "        Change = (int(row[1]) - int(Revenue))\n",
    "        RevenueChanges.append(Change)\n",
    "\n",
    "        Revenue = int(row[1])\n",
    "        \n",
    "        \n",
    "   \n",
    "    print(str(RevenueChanges))\n",
    "\n"
   ]
  },
  {
   "cell_type": "code",
   "execution_count": null,
   "metadata": {
    "collapsed": true
   },
   "outputs": [],
   "source": []
  }
 ],
 "metadata": {
  "kernelspec": {
   "display_name": "Python 3",
   "language": "python",
   "name": "python3"
  },
  "language_info": {
   "codemirror_mode": {
    "name": "ipython",
    "version": 3
   },
   "file_extension": ".py",
   "mimetype": "text/x-python",
   "name": "python",
   "nbconvert_exporter": "python",
   "pygments_lexer": "ipython3",
   "version": "3.6.3"
  }
 },
 "nbformat": 4,
 "nbformat_minor": 2
}
